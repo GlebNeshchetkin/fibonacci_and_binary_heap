{
 "cells": [
  {
   "cell_type": "markdown",
   "metadata": {},
   "source": [
    "# 12. Задача о кратчайших путях: алг. Дейкстры на 2-куче и на  фибоначчиевой куче"
   ]
  },
  {
   "cell_type": "code",
   "execution_count": 1,
   "metadata": {},
   "outputs": [],
   "source": [
    "import networkx as nx\n",
    "import matplotlib.pyplot as plt\n",
    "import math\n",
    "import time\n",
    "import random"
   ]
  },
  {
   "cell_type": "markdown",
   "metadata": {},
   "source": [
    "## Graph class"
   ]
  },
  {
   "cell_type": "code",
   "execution_count": 2,
   "metadata": {},
   "outputs": [],
   "source": [
    "class Graph:\n",
    "    def __init__(self):\n",
    "        self.nodes = set()\n",
    "        self.edges = {}\n",
    "\n",
    "    def add_node(self, value):\n",
    "        self.nodes.add(value)\n",
    "        self.edges[value] = []\n",
    "\n",
    "    def add_edge(self, from_node, to_node, weight):\n",
    "        self.edges[from_node].append((to_node, weight))\n",
    "        self.edges[to_node].append((from_node, weight))\n",
    "\n",
    "def generate_random_graph(num_nodes):\n",
    "    g = Graph()\n",
    "    for i in range(num_nodes):\n",
    "        g.add_node(str(i))\n",
    "    for i in range(num_nodes):\n",
    "        for j in range(i + 1, num_nodes):\n",
    "            weight = random.randint(1, 100)\n",
    "            g.add_edge(str(i), str(j), weight)\n",
    "\n",
    "    return g"
   ]
  },
  {
   "cell_type": "markdown",
   "metadata": {},
   "source": [
    "## 2 heap"
   ]
  },
  {
   "cell_type": "code",
   "execution_count": 3,
   "metadata": {},
   "outputs": [],
   "source": [
    "class MaxHeap:\n",
    "    class Node:\n",
    "        def __init__(self, name, weight, index = 0):\n",
    "            self.index = index\n",
    "            self.name = name\n",
    "            self.weight = weight\n",
    "            \n",
    "    def __init__(self):\n",
    "        self.heap = []\n",
    "        self.list_of_nodes = [None]\n",
    "\n",
    "    def push(self, value):\n",
    "        n = self.Node(value[0], value[1], len(self.heap))\n",
    "        while len(self.list_of_nodes) < int(value[0]) + 1:\n",
    "            self.list_of_nodes.append(None)\n",
    "        self.list_of_nodes[int(value[0])] = n\n",
    "        self.heap.append(n)\n",
    "        self.emersion(len(self.heap)-1)\n",
    "\n",
    "    def pop(self):\n",
    "        if len(self.heap) > 1:\n",
    "            self._swap(0, len(self.heap) - 1)\n",
    "            min_value = self.heap.pop()\n",
    "            self.diving()\n",
    "        elif len(self.heap) == 1:\n",
    "            min_value = self.heap.pop()\n",
    "        else:\n",
    "            min_value = None\n",
    "        min_value.index = -1\n",
    "        return (min_value.name, min_value.weight)\n",
    "            \n",
    "    def min_child(self, index):\n",
    "        if len(self.heap) == index + 1:\n",
    "            return -1\n",
    "        min = self.heap[index+1].weight\n",
    "        if len(self.heap) >= index + 3 and self.heap[index+2].weight < min:\n",
    "            return index+2\n",
    "        return index+1\n",
    "    \n",
    "    def diving(self):\n",
    "        j_1 = 0\n",
    "        j_2 = self.min_child(j_1)\n",
    "        while j_2 != -1 and self.heap[j_1].weight > self.heap[j_2].weight:\n",
    "            self._swap(j_1,j_2)\n",
    "            j_1 = j_2\n",
    "            j_2 = self.min_child(j_2)\n",
    "    \n",
    "    def is_empty(self):\n",
    "        return not bool(self.heap)\n",
    "\n",
    "    def _swap(self, i, j):\n",
    "        self.heap[i], self.heap[j] = self.heap[j], self.heap[i]\n",
    "        t = self.heap[i].index\n",
    "        self.heap[i].index = self.heap[j].index\n",
    "        self.heap[j].index = t\n",
    "        \n",
    "    def make_heap(self, weights):\n",
    "        for w in weights:\n",
    "            self.push(w)\n",
    "            \n",
    "    def emersion(self, index):\n",
    "        parent_index = 0\n",
    "        while index > 0:\n",
    "            parent_index = (index - 1) // 2\n",
    "            if self.heap[index].weight < self.heap[parent_index].weight:\n",
    "                self._swap(index, parent_index)\n",
    "                index = parent_index\n",
    "            else:\n",
    "                break\n",
    "            \n",
    "    def find(self, node_target):\n",
    "        for i, node in enumerate(self.heap):\n",
    "            if node.name == node_target:\n",
    "                return node.index\n",
    "        return -1\n",
    "            \n",
    "    def decrease_weight(self, index, weight):\n",
    "        self.heap[index].weight = weight\n",
    "        self.emersion(index)\n",
    "    \n",
    "    def print(self):\n",
    "        for element in self.heap:\n",
    "            print(element)"
   ]
  },
  {
   "cell_type": "markdown",
   "metadata": {},
   "source": [
    "## Dijkstra using 2-heap"
   ]
  },
  {
   "cell_type": "code",
   "execution_count": 4,
   "metadata": {},
   "outputs": [],
   "source": [
    "def dijkstra2heap(graph, start_node):\n",
    "    distances = {node: float('infinity') for node in graph.nodes}\n",
    "    distances[start_node] = 0\n",
    "\n",
    "    heap = MaxHeap()\n",
    "    for v in graph.nodes:\n",
    "        if v != start_node:\n",
    "            heap.push((v, math.inf))\n",
    "        else:\n",
    "            heap.push((v, 0))\n",
    "\n",
    "    while not heap.is_empty():\n",
    "        current_node, current_distance = heap.pop()\n",
    "        for neighbor, weight in graph.edges[current_node]:\n",
    "            index = heap.list_of_nodes[int(neighbor)].index # heap.find(neighbor)\n",
    "            if index != -1:\n",
    "                distance = current_distance + weight\n",
    "                if distance < heap.heap[index].weight:\n",
    "                    distances[neighbor] = distance\n",
    "                    heap.decrease_weight(index, distance)\n",
    "        \n",
    "    return distances"
   ]
  },
  {
   "cell_type": "markdown",
   "metadata": {},
   "source": [
    "## Fibonacci heap"
   ]
  },
  {
   "cell_type": "code",
   "execution_count": 5,
   "metadata": {},
   "outputs": [],
   "source": [
    "class FibonacciHeap:\n",
    "    \n",
    "    class Node:\n",
    "        def __init__(self, name, weight):\n",
    "            self.name = name\n",
    "            self.weight = weight\n",
    "            self.parent = None\n",
    "            self.child = None\n",
    "            self.left = None\n",
    "            self.right = None\n",
    "            self.degree = 0\n",
    "            self.mark = False\n",
    "            \n",
    "    root_list, min_node = None, None\n",
    "    list_of_nodes = [None]\n",
    "    total_nodes = 0\n",
    "    \n",
    "    def merge_with_root_list(self, node):\n",
    "        if self.root_list is None:\n",
    "            self.root_list = node\n",
    "        else:\n",
    "            node.right = self.root_list.right\n",
    "            node.left = self.root_list\n",
    "            self.root_list.right.left = node\n",
    "            self.root_list.right = node\n",
    "    \n",
    "    def insert(self, name, weight = math.inf):\n",
    "        n = self.Node(name, weight)\n",
    "        n.left = n\n",
    "        n.right = n\n",
    "        self.merge_with_root_list(n)\n",
    "        if self.min_node is None or n.weight < self.min_node.weight:\n",
    "            self.min_node = n\n",
    "        self.total_nodes += 1\n",
    "        while len(self.list_of_nodes) < int(name) + 1:\n",
    "            self.list_of_nodes.append(None)\n",
    "        self.list_of_nodes[int(name)] = n\n",
    "        return n\n",
    "    \n",
    "    def is_empty(self):\n",
    "        if self.total_nodes == 0:\n",
    "            return True\n",
    "        return False\n",
    "    \n",
    "    def iterate(self, head):\n",
    "        node = head \n",
    "        stop = head\n",
    "        flag = False\n",
    "        while True:\n",
    "            if node == stop and flag is True:\n",
    "                break\n",
    "            elif node == stop:\n",
    "                flag = True\n",
    "            yield node\n",
    "            node = node.right\n",
    "            \n",
    "    def remove_from_root_list(self, node):\n",
    "        if node == self.root_list:\n",
    "            self.root_list = node.right\n",
    "        node.left.right = node.right\n",
    "        node.right.left = node.left\n",
    "    \n",
    "    def merge_with_child_list(self, parent, node):\n",
    "        if parent.child is None:\n",
    "            parent.child = node\n",
    "        else:\n",
    "            node.right = parent.child.right\n",
    "            node.left = parent.child\n",
    "            parent.child.right.left = node\n",
    "            parent.child.right = node\n",
    "        \n",
    "    def heap_link(self, y, x):\n",
    "        self.remove_from_root_list(y)\n",
    "        y.left = y.right = y\n",
    "        self.merge_with_child_list(x, y)\n",
    "        x.degree += 1\n",
    "        y.parent = x\n",
    "        y.mark = False\n",
    "        return x\n",
    "        \n",
    "    def consolidate(self):\n",
    "        A = [None] * int(math.log(self.total_nodes) * 2)\n",
    "        nodes = [w for w in self.iterate(self.root_list)]\n",
    "        for x in nodes:\n",
    "            d = x.degree\n",
    "            while A[d] != None:\n",
    "                y = A[d]\n",
    "                if x.weight > y.weight:\n",
    "                    x = self.heap_link(x, y)\n",
    "                else:\n",
    "                    x = self.heap_link(y, x)\n",
    "                A[d] = None\n",
    "                d += 1\n",
    "            A[d] = x\n",
    "        for i in range(0, len(A)):\n",
    "            if A[i] is not None:\n",
    "                if A[i].weight <= self.min_node.weight:\n",
    "                    self.min_node = A[i]\n",
    "    \n",
    "    def pop(self):\n",
    "        current_min = self.min_node\n",
    "        if current_min is not None:\n",
    "            if current_min.child is not None:\n",
    "                children = [x for x in self.iterate(current_min.child)]\n",
    "                for i in range(0, len(children)):\n",
    "                    self.merge_with_root_list(children[i])\n",
    "                    children[i].parent = None\n",
    "            self.remove_from_root_list(current_min)\n",
    "            if current_min == current_min.right:\n",
    "                self.min_node = None\n",
    "                self.root_list = None\n",
    "            else:\n",
    "                self.min_node = current_min.right\n",
    "                self.consolidate()\n",
    "            self.total_nodes -= 1\n",
    "        return current_min\n",
    "    \n",
    "    def find(self, name, start_node = None):\n",
    "        if start_node == None:\n",
    "            start_node = self.root_list\n",
    "        current_node = start_node\n",
    "        while current_node:\n",
    "            if current_node.name == name:\n",
    "                return current_node\n",
    "            if current_node.child:\n",
    "                child_result = self.find(name, current_node.child)\n",
    "                if child_result:\n",
    "                    return child_result\n",
    "            current_node = current_node.right\n",
    "            if current_node == start_node:\n",
    "                break\n",
    "        return None\n",
    "    \n",
    "    def swap(self, name1, name2):\n",
    "        t = self.list_of_nodes[int(name1)]\n",
    "        self.list_of_nodes[int(name1)] = self.list_of_nodes[int(name2)]\n",
    "        self.list_of_nodes[int(name2)] = t\n",
    "        \n",
    "    def emersion(self, node):\n",
    "        parent = node.parent\n",
    "        while parent and node.weight < parent.weight:\n",
    "            parent_weight = parent.weight\n",
    "            parent.weight = node.weight\n",
    "            node.weight = parent_weight\n",
    "            parent_name = parent.name\n",
    "            parent.name = node.name\n",
    "            node.name = parent_name\n",
    "            self.swap(parent.name, node.name)\n",
    "            node = parent\n",
    "            parent = node.parent\n",
    "        return node\n",
    "    \n",
    "    def decrease_weight(self, node, new_weight):\n",
    "        node.weight = new_weight\n",
    "        node = self.emersion(node)\n",
    "        if node.weight < self.min_node.weight:\n",
    "            self.min_node = node\n",
    "    "
   ]
  },
  {
   "cell_type": "markdown",
   "metadata": {},
   "source": [
    "## Dijkstra using Fibonacci heap"
   ]
  },
  {
   "cell_type": "code",
   "execution_count": 6,
   "metadata": {},
   "outputs": [],
   "source": [
    "def dijkstraFib(graph, start_node):\n",
    "    distances = {node: float('infinity') for node in graph.nodes}\n",
    "    distances[start_node] = 0\n",
    "    heap = FibonacciHeap()\n",
    "    for v in graph.nodes:\n",
    "        if v != start_node:\n",
    "            n = heap.insert(v)\n",
    "        else:\n",
    "            n = heap.insert(v,0)\n",
    "    while not heap.is_empty():\n",
    "        current_node = heap.pop()\n",
    "        current_distance = current_node.weight\n",
    "        for neighbor, weight in graph.edges[current_node.name]:\n",
    "            neighbor_node = heap.list_of_nodes[int(neighbor)]\n",
    "            if neighbor_node != None:\n",
    "                distance = current_distance + weight\n",
    "                if distance < neighbor_node.weight:\n",
    "                    distances[neighbor] = distance\n",
    "                    heap.decrease_weight(neighbor_node, distance)\n",
    "        \n",
    "    return distances"
   ]
  },
  {
   "cell_type": "markdown",
   "metadata": {},
   "source": [
    "## Check"
   ]
  },
  {
   "cell_type": "code",
   "execution_count": 7,
   "metadata": {},
   "outputs": [],
   "source": [
    "num_nodes = 1000\n",
    "random_graph = generate_random_graph(num_nodes)\n",
    "res_2heap = dijkstra2heap(random_graph,'1')\n",
    "res_fib = dijkstraFib(random_graph,'1')"
   ]
  },
  {
   "cell_type": "code",
   "execution_count": 8,
   "metadata": {},
   "outputs": [],
   "source": [
    "for element in random_graph.nodes:\n",
    "    if res_fib[element] != res_2heap[element]:\n",
    "        print('Error')"
   ]
  },
  {
   "cell_type": "code",
   "execution_count": null,
   "metadata": {},
   "outputs": [],
   "source": []
  },
  {
   "cell_type": "code",
   "execution_count": null,
   "metadata": {},
   "outputs": [],
   "source": []
  },
  {
   "cell_type": "code",
   "execution_count": 9,
   "metadata": {},
   "outputs": [],
   "source": [
    "def dijkstraN2(graph, start_node):\n",
    "    distances = {node: float('infinity') for node in graph.nodes}\n",
    "    distances[start_node] = 0\n",
    "\n",
    "    while graph.nodes:\n",
    "        current_node = min(graph.nodes, key=lambda node: distances[node])\n",
    "        graph.nodes.remove(current_node)\n",
    "\n",
    "        for neighbor, weight in graph.edges[current_node]:\n",
    "            potential_route = distances[current_node] + weight\n",
    "\n",
    "            if potential_route < distances[neighbor]:\n",
    "                distances[neighbor] = potential_route\n",
    "\n",
    "    return distances\n",
    "\n",
    "res_N2 = dijkstraN2(random_graph,'1')"
   ]
  },
  {
   "cell_type": "code",
   "execution_count": 10,
   "metadata": {},
   "outputs": [],
   "source": [
    "for element in random_graph.nodes:\n",
    "    if res_N2[element] != res_fib[element] or res_fib[element] != res_2heap[element]:\n",
    "        print('Error')"
   ]
  },
  {
   "cell_type": "code",
   "execution_count": 15,
   "metadata": {},
   "outputs": [],
   "source": [
    "num_nodes = 4\n",
    "random_graph = generate_random_graph(num_nodes)"
   ]
  },
  {
   "cell_type": "code",
   "execution_count": 16,
   "metadata": {},
   "outputs": [],
   "source": [
    "res_2heap = dijkstra2heap(random_graph,'1')\n",
    "res_fib = dijkstraFib(random_graph,'1')"
   ]
  },
  {
   "cell_type": "code",
   "execution_count": 17,
   "metadata": {},
   "outputs": [
    {
     "data": {
      "text/plain": [
       "{'0': 52, '2': 66, '1': 0, '3': 99}"
      ]
     },
     "execution_count": 17,
     "metadata": {},
     "output_type": "execute_result"
    }
   ],
   "source": [
    "res_2heap"
   ]
  },
  {
   "cell_type": "code",
   "execution_count": 18,
   "metadata": {},
   "outputs": [
    {
     "data": {
      "text/plain": [
       "{'0': 52, '2': 66, '1': 0, '3': 99}"
      ]
     },
     "execution_count": 18,
     "metadata": {},
     "output_type": "execute_result"
    }
   ],
   "source": [
    "res_fib"
   ]
  },
  {
   "cell_type": "code",
   "execution_count": 21,
   "metadata": {},
   "outputs": [
    {
     "data": {
      "text/plain": [
       "[('1', 52), ('2', 95), ('3', 58)]"
      ]
     },
     "execution_count": 21,
     "metadata": {},
     "output_type": "execute_result"
    }
   ],
   "source": []
  },
  {
   "cell_type": "code",
   "execution_count": 22,
   "metadata": {},
   "outputs": [],
   "source": [
    "graph = Graph()\n",
    "graph.add_node('1')\n",
    "graph.add_node('2')\n",
    "graph.add_node('3')\n",
    "graph.add_node('4')\n",
    "graph.add_edge('1','2',52)\n",
    "graph.add_edge('2','3',66)\n",
    "graph.add_edge('3','4',37)\n",
    "graph.add_edge('1','4',20)\n",
    "graph.add_edge('1','3',99)\n",
    "graph.add_edge('2','4',95)"
   ]
  },
  {
   "cell_type": "code",
   "execution_count": 23,
   "metadata": {},
   "outputs": [
    {
     "data": {
      "text/plain": [
       "{'1': [('2', 52), ('4', 20), ('3', 99)],\n",
       " '2': [('1', 52), ('3', 66), ('4', 95)],\n",
       " '3': [('2', 66), ('4', 37), ('1', 99)],\n",
       " '4': [('3', 37), ('1', 20), ('2', 95)]}"
      ]
     },
     "execution_count": 23,
     "metadata": {},
     "output_type": "execute_result"
    }
   ],
   "source": [
    "graph.edges"
   ]
  },
  {
   "cell_type": "code",
   "execution_count": 24,
   "metadata": {},
   "outputs": [],
   "source": [
    "res_2heap = dijkstra2heap(graph,'1')\n",
    "res_fib = dijkstraFib(graph,'1')"
   ]
  },
  {
   "cell_type": "code",
   "execution_count": 25,
   "metadata": {},
   "outputs": [
    {
     "data": {
      "text/plain": [
       "{'3': 57, '2': 52, '1': 0, '4': 20}"
      ]
     },
     "execution_count": 25,
     "metadata": {},
     "output_type": "execute_result"
    }
   ],
   "source": [
    "res_2heap"
   ]
  },
  {
   "cell_type": "code",
   "execution_count": 26,
   "metadata": {},
   "outputs": [
    {
     "data": {
      "text/plain": [
       "{'3': 57, '2': 52, '1': 0, '4': 20}"
      ]
     },
     "execution_count": 26,
     "metadata": {},
     "output_type": "execute_result"
    }
   ],
   "source": [
    "res_fib"
   ]
  },
  {
   "cell_type": "code",
   "execution_count": 27,
   "metadata": {},
   "outputs": [],
   "source": [
    "import time\n",
    "res_fib = dijkstraFib(random_graph,'1')"
   ]
  },
  {
   "cell_type": "code",
   "execution_count": 38,
   "metadata": {},
   "outputs": [],
   "source": [
    "time_vec= [] \n",
    "for num_nodes in range(500, 5000, 500):\n",
    "    random_graph = generate_random_graph(num_nodes)\n",
    "    time_start = time.time()\n",
    "    res_2heap = dijkstra2heap(random_graph,'1')\n",
    "    time_end = time.time()\n",
    "    time_vec.append(time_end-time_start)\n",
    "    \n",
    "    "
   ]
  },
  {
   "cell_type": "code",
   "execution_count": 39,
   "metadata": {},
   "outputs": [
    {
     "name": "stdout",
     "output_type": "stream",
     "text": [
      "500\n",
      "1000\n",
      "1500\n",
      "2000\n",
      "2500\n",
      "3000\n",
      "3500\n",
      "4000\n",
      "4500\n"
     ]
    }
   ],
   "source": [
    "time_vec_fib= [] \n",
    "nodes_vec = []\n",
    "for num_nodes in range(500, 5000, 500):\n",
    "    print(num_nodes)\n",
    "    random_graph = generate_random_graph(num_nodes)\n",
    "    time_start = time.time()\n",
    "    res_fib = dijkstraFib(random_graph,'1')\n",
    "    time_end = time.time()\n",
    "    time_vec_fib.append(time_end-time_start)\n",
    "    nodes_vec.append(num_nodes)\n",
    "    "
   ]
  },
  {
   "cell_type": "code",
   "execution_count": 40,
   "metadata": {},
   "outputs": [],
   "source": [
    "import matplotlib.pyplot as plt"
   ]
  },
  {
   "cell_type": "code",
   "execution_count": 41,
   "metadata": {},
   "outputs": [
    {
     "data": {
      "text/plain": [
       "[<matplotlib.lines.Line2D at 0x26d169faa10>]"
      ]
     },
     "execution_count": 41,
     "metadata": {},
     "output_type": "execute_result"
    },
    {
     "data": {
      "image/png": "[encoded data removed]",
      "text/plain": [
       "<Figure size 640x480 with 1 Axes>"
      ]
     },
     "metadata": {},
     "output_type": "display_data"
    }
   ],
   "source": [
    "plt.plot(nodes_vec,time_vec)\n",
    "plt.plot(nodes_vec,time_vec_fib)\n"
   ]
  },
  {
   "cell_type": "code",
   "execution_count": 36,
   "metadata": {},
   "outputs": [
    {
     "data": {
      "text/plain": [
       "[<matplotlib.lines.Line2D at 0x26d1411b150>]"
      ]
     },
     "execution_count": 36,
     "metadata": {},
     "output_type": "execute_result"
    },
    {
     "data": {
      "image/png": "[encoded data removed]",
      "text/plain": [
       "<Figure size 640x480 with 1 Axes>"
      ]
     },
     "metadata": {},
     "output_type": "display_data"
    }
   ],
   "source": [
    "plt.plot(nodes_vec,time_vec_fib)"
   ]
  },
  {
   "cell_type": "code",
   "execution_count": null,
   "metadata": {},
   "outputs": [],
   "source": []
  }
 ],
 "metadata": {
  "kernelspec": {
   "display_name": "Python 3",
   "language": "python",
   "name": "python3"
  },
  "language_info": {
   "codemirror_mode": {
    "name": "ipython",
    "version": 3
   },
   "file_extension": ".py",
   "mimetype": "text/x-python",
   "name": "python",
   "nbconvert_exporter": "python",
   "pygments_lexer": "ipython3",
   "version": "3.11.6"
  }
 },
 "nbformat": 4,
 "nbformat_minor": 2
}
